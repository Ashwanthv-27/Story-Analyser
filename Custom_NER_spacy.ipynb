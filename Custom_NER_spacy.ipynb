{
 "cells": [
  {
   "cell_type": "code",
   "execution_count": 39,
   "id": "33c0ae4d",
   "metadata": {},
   "outputs": [],
   "source": [
    "import random\n",
    "from pathlib import Path\n",
    "import spacy\n",
    "from tqdm import tqdm\n",
    "from spacy import displacy\n",
    "from spacy.lang.en.stop_words import STOP_WORDS\n",
    "from spacy.lang.en import English\n",
    "import networkx as nx\n",
    "import matplotlib.pyplot as plt\n"
   ]
  },
  {
   "cell_type": "markdown",
   "id": "403d434e",
   "metadata": {},
   "source": [
    "Cutomer NER training "
   ]
  },
  {
   "cell_type": "code",
   "execution_count": 40,
   "id": "b5787d37",
   "metadata": {},
   "outputs": [],
   "source": [
    "model = 'en_core_web_lg'\n",
    "n_iter=100"
   ]
  },
  {
   "cell_type": "code",
   "execution_count": 41,
   "id": "eaf8f034",
   "metadata": {},
   "outputs": [
    {
     "name": "stdout",
     "output_type": "stream",
     "text": [
      "Loaded model 'en_core_web_lg'\n"
     ]
    }
   ],
   "source": [
    "if model is not None:\n",
    "    nlp = spacy.load('en_core_web_lg')  \n",
    "    print(\"Loaded model '%s'\" % model)\n",
    "else:\n",
    "    nlp = spacy.blank('en')  \n",
    "    print(\"Created blank 'en' model\")"
   ]
  },
  {
   "cell_type": "code",
   "execution_count": 42,
   "id": "8d16194b",
   "metadata": {},
   "outputs": [],
   "source": [
    "TRAIN_DATA= [(\"The foolish thief had cut the stick shorter by two inches as he thought it would grow two inches \",{\"entities\":[(12,17,\"Person-CHAR\"),(30,35,\"PROD\"),(47,57,\"QUANTITY\"),(86,96,\"QUANTITY\")]}),\n",
    "(\"He knew who the thief was.\",{\"entities\":[(16,21,\"Person-CHAR\")]}),\n",
    "(\"The next day, Birbal summoned the servants again.\",{\"entities\":[(4,12,\"DAY\"),(14,20,\"Person-Name\"),(34,42,\"Person-CHAR\")]}),\n",
    "(\"On hearing this, Birbal thought of a clever plan and summoned the merchants servants.\",{\"entities\":[(17,23,\"Person-Name\"),(66,75,\"Person-CHAR\"),(76,84,\"Person-CHAR\")]}),\n",
    "(\"He suspected that one of his servants had robbed from him.\",{\"entities\":[(29,37,\"Person-CHAR\"),(42,48,\"EVENT\")]}),\n",
    "(\"Once, a wealthy merchant came to King Akbar's court to seek help from Birbal.\",{\"entities\":[(38,43,\"Person-Name\"),(16,24,\"Person-CHAR\"),(33,37,\"Person-CHAR\"),(46,51,\"LOC\"),(70,76,\"Person-Name\")]}),\n",
    "(\"The leader of the mice met with the elephants and requested them to take a different route to the lake. \",{\"entities\":[(18,22,\"Animal-CHAR\"),(36,45,\"Animal-CHAR\"),(98,102,\"LOC\")]}),\n",
    "(\"The elephants would have to cross the village to go to the lake \",{\"entities\":[(4,13,\"Animal-CHAR\"),(38,45,\"LOC\"),(59,63,\"LOC\")]}),\n",
    "(\"As the crocodile carried the monkey on his back across the river, he told him about his wife's plan to eat his heart.\",{\"entities\":[(7,16,\"Animal-CHAR\"),(29,35,\"Animal-CHAR\"),(59,64,\"LOC\")]}),\n",
    "(\"His wife, a wicked crocodile, enjoyed the sweet berries, but then told her husband that she wanted to eat the monkeys heart as that would be sweeter!\",{\"entities\":[(4,8,\"Person-CHAR\"),(19,28,\"Animal-CHAR\"),(42,55,\"VEG\"),(75,82,\"Person-CHAR\"),(110,117,\"Animal-CHAR\")]}),\n",
    "(\"The crocodile thanked the monkey \",{\"entities\":[(4,13,\"Animal-CHAR\"),(26,32,\"Animal-CHAR\")]}),\n",
    "(\"He gave the crocodile some berries \",{\"entities\":[(12,21,\"Animal-CHAR\"),(27,34,\"VEG\")]}),\n",
    "(\"the giant was fearsome in his looks\",{\"entities\":[(4,9,\"Person-CHAR\")]}),       \n",
    "(\"since the door and window was closed, the room was dark\",{\"entities\":[(10,14,\"PROD\"),(19,25,\"PROD\"),(42,46,\"LOC\")]}),             \n",
    "(\"Once, he saw a crocodile rest under the tree who looked tired and hungry.\",{\"entities\":[(40,44,\"PROD\"),(15,24,\"Animal-CHAR\")]}),\n",
    "(\"There was a monkey that lived on a berry tree on the riverbank. He ate the delicious berries every day.\",{\"entities\":[(12,18,\"Animal-CHAR\"),(35,45,\"PROD\"),(53,62,\"LOC\"),(85,92,\"VEG\")]}),\n",
    "(\"The second pig put in a little effort and built a house made of sticks.\",{\"entities\":[(11,14,\"Animal-CHAR\"),(50,55,\"LOC\"),(64,70,\"PROD\")]}),\n",
    "(\"The first pig barely put in any effort and built a house made of straw.\",{\"entities\":[(10,13,\"Animal-CHAR\"),(65,70,\"PROD\"),(51,56,\"LOC\")]}),\n",
    "(\"Once, there lived three little pigs who were sent out into the world by their mother.\",{\"entities\":[(0,4,\"TIME\"),(31,35,\"Person-CHAR\"),(63,68,\"LOC\"),(78,84,\"Person-CHAR\")]}),\n",
    "(\"Midas went home to his wife and daughter touching pebbles, rocks, and plants on the way, which turned into gold.\",{\"entities\":[(0,5,\"Person-Name\"),(23,27,\"Person-CHAR\"),(32,40,\"Person-CHAR\"),(50,57,\"PROD\"),(59,64,\"PROD\"),(70,76,\"PROD\"),(107,111,\"PROD\")]}),\n",
    "(\"Midas helped the Satyr and asked for his wish to be granted in return.\",{\"entities\":[(0,5,\"Person-Name\"),(17,22,\"Person-Name\")]}),\n",
    "(\"One day, Midas saw a Satyr (an angel ) who was stuck and was in trouble\",{\"entities\":[(0,7,\"DATE\"),(9,14,\"Person-Name\"),(31,36,\"Person-CHAR\")]}),\n",
    "(\"He was extremely wealthy and had all the gold he could ever need. He also had a daughter whom he loved very much.\",{\"entities\":[(41,45,\"NAT-RES\"),(80,88,\"Person-CHAR\")]}),\n",
    "(\"A long time ago, there lived a king in Greece named Midas.\",{\"entities\":[(2,15,\"TIME\"),(31,35,\"Person-CHAR\"),(39,45,\"LOC\"),(52,57,\"Person-Name\")]}),\n",
    "(\"But, the villagers assumed that he was pulling a silly prank again and did not come to his rescue. \",{\"entities\":[(9,18,\"Person-CHAR\")]}),\n",
    "(\"On hearing his cries, the villagers rushed to help him chase the wolf away and safe the sheep.\",{\"entities\":[(26,35,\"Person-CHAR\"),(65,69,\"Animal-CHAR\"),(88,93,\"Animal-CHAR\")]}),\n",
    "(\"One day, the boy was extremely bored as he watched over the sheep and so he cried: Wolf! Wolf!\",{\"entities\":[(0,7,\"DAY\"),(13,16,\"Person-CHAR\"),(60,65,\"Animal-CHAR\"),(83,87,\"Animal-CHAR\"),(89,93,\"Animal-CHAR\")]}),\n",
    "(\"undefined\",{\"entities\":[(28,34,\"Person-CHAR\"),(38,44,\"Person-CHAR\"),(82,87,\"Animal-CHAR\"),(88,95,\"PROCESS\"),(96,105,\"TIME\")]}),\n",
    "(\"They were kept tied up with weak rope that they couldve easily escaped, but did not.\",{\"entities\":[(33,37,\"PROD\")]}),\n",
    "(\"Once upon a time in a circus, five elephants that performed circus tricks.\",{\"entities\":[(22,28,\"LOC\"),(35,44,\"Animal-CHAR\"),(60,66,\"LOC\")]}),\n",
    "(\"She dreamt of buying a cake, a basket of strawberries, a fancy dress, and even a new house with the money she would make selling the eggs and the milk\",{\"entities\":[(23,27,\"PROD\"),(31,37,\"PROD\"),(41,53,\"VEG\"),(57,68,\"PROD\"),(85,90,\"PROD\"),(133,137,\"PROD\"),(146,150,\"PROD\")]}),\n",
    "(\"She thought of buying a hen and selling its eggs and she planned on becoming wealthy.\",{\"entities\":[(24,27,\"Animal-CHAR\"),(44,48,\"PROD\")]}),\n",
    "(\"As she was walking to the market, she began to daydream about what she would do from the money she fo for the milk.\",{\"entities\":[(26,32,\"LOC\"),(110,114,\"PROD\")]}),\n",
    "(\"She milked her cow and carried the two pails of milk she fetched on a stick and set out to sell the milk at the market.\",{\"entities\":[(4,10,\"PROCESS\"),(15,19,\"Animal-CHAR\"),(48,52,\"PROD\"),(70,75,\"PROD\"),(100,104,\"PROD\"),(112,118,\"LOC\")]}),\n",
    "(\"There was once a milkmaid named Patty.\",{\"entities\":[(17,25,\"Person-CHAR\"),(32,37,\"Person-Name\")]}),\n",
    "(\"While the hare was asleep, the tortoise crossed the finish line and won the race!\",{\"entities\":[(10,14,\"Animal-CHAR\"),(31,39,\"Animal-CHAR\"),(52,63,\"LOC\"),(76,80,\"EVENT\")]}),\n",
    "(\"the tortoise walked slowly but extremely determined and dedicated.\",{\"entities\":[(4,12,\"Animal-CHAR\")]}),\n",
    "(\"he took a nap right near the finish line.\",{\"entities\":[(29,40,\"LOC\")]}),\n",
    "(\"A farmer planted grapes in his field \",{\"entities\":[(2,8,\"Person-CHAR\"),(17,23,\"VEG\"),(31,36,\"LOC\")]}),             \n",
    "(\"His ego made him believe that he could win the race even if he rested for a while.\",{\"entities\":[(47,51,\"EVENT\")]}),\n",
    "(\"The tortoise agreed and the race began.\",{\"entities\":[(3,13,\"Animal-CHAR\"),(28,32,\"EVENT\")]}),\n",
    "(\"The hare got a head-start but became overconfident towards the end of the race.\",{\"entities\":[(4,8,\"Animal-CHAR\"),(74,78,\"EVENT\")]}),\n",
    "(\"The tortoise agreed and the race began.\",{\"entities\":[(4,12,\"Animal-CHAR\")]}),\n",
    "(\"The hare simply wanted to prove that he was the best and have the satisfaction of beating him.\",{\"entities\":[(4,8,\"Animal-CHAR\")]}),\n",
    "(\"The story began when the hare who has won many races proposed a race with the tortoise.\",{\"entities\":[(25,29,\"Animal-CHAR\"),(78,86,\"Animal-CHAR\")]}),\n",
    "(\"The other frogs were shocked at this and wondered how he did it.\",{\"entities\":[(10,15,\"Animal-CHAR\")]}),\n",
    "(\"The other frog keeps trying and eventually jumps so high that he escapes the pit\",{\"entities\":[(10,14,\"Animal-CHAR\"),(77,80,\"LOC\")]}),\n",
    "(\"They continued to constantly discourage them as the two frogs tried to jump out of the pit\",{\"entities\":[(56,61,\"Animal-CHAR\"),(87,90,\"LOC\")]}),\n",
    "(\"The other frogs worried about their friends in the pit.\",{\"entities\":[(10,15,\"Animal-CHAR\"),(51,54,\"LOC\")]}),\n",
    "(\"Alice sat under a tree\",{\"entities\":[(0,5,\"Person-Name\"),(18,22,\"PROD\")]}),\n",
    "(\"wit is useless components\",{\"entities\":[(0,3,\"PROD\")]}),\n",
    "(\"it took a couple of weeks for him to get back to his senses.\",{\"entities\":[(10,25,\"DATE\")]}),\n",
    "(\"the price of gold and diamonds are on the rise\",{\"entities\":[(13,17,\"NAT-RES\"),(22,30,\"NAT-RES\")]}),             \n",
    "(\"There was a hole under the tree near the cave\",{\"entities\":[(27,31,\"PROD\"),(41,44,\"LOC\")]}),\n",
    "(\"Suddenly, two frogs in the group accidentally fell into a deep pit\",{\"entities\":[(14,19,\"Animal-CHAR\"),(63,66,\"LOC\")]}),\n",
    "(\"John noticed that the potato had become soft and its skin was peeling off easily; the egg had become harder and tougher; the coffee beans had completely changed and filled the bowl of water with aroma and flavour\",{\"entities\":[(22,28,\"VEG\"),(86,89,\"VEG\"),(125,137,\"PROD\"),(176,180,\"PROD\"),(184,189,\"NAT-RES\")]}),\n",
    "(\"Once the bowls had cooled down, Johns father asked him to feel the texture of the different food items again.\",{\"entities\":[(9,14,\"PROD\"),(32,37,\"Person-Name\"),(38,44,\"Person-CHAR\"),(92,96,\"VEG\")]}),\n",
    "(\"Rajeev lived in a kingdome and loved to eat watermelon \",{\"entities\":[(0,6,\"Person-Name\"),(18,26,\"LOC\"),(44,54,\"VEG\")]}),\n",
    "(\"John did as he had been told, father then boiled all three bowls\",{\"entities\":[(0,4,\"Person-Name\"),(30,36,\"Person-CHAR\"),(59,64,\"PROD\")]}),\n",
    "(\"He then asked John to feel their texture and then fill each bowl with water.\",{\"entities\":[(70,75,\"NAT-RES\"),(14,19,\"Person-Name\"),(60,64,\"PROD\")]}),\n",
    "(\"His father simply smiled and asked him to get a potato, an egg, and some coffee beans. He placed them in three bowls.\",{\"entities\":[(4,10,\"Person-CHAR\"),(48,54,\"VEG\"),(59,62,\"PROD\"),(73,85,\"PROD\"),(111,116,\"PROD\")]}),\n",
    "(\"When his father asked John why he was crying, he said that he had a lot of problems in his life.\",{\"entities\":[(9,15,\"Person-CHAR\"),(22,26,\"Person-Name\")]}),\n",
    "(\"A boy named John was upset. His father found him crying.\",{\"entities\":[(12,16,\"Person-Name\"),(32,38,\"Person-CHAR\")]}),\n",
    "]"
   ]
  },
  {
   "cell_type": "code",
   "execution_count": 43,
   "id": "4ab0b43f",
   "metadata": {},
   "outputs": [],
   "source": [
    "if 'ner' not in nlp.pipe_names:\n",
    "    ner = nlp.create_pipe('ner')\n",
    "    nlp.add_pipe(factory_name='ner', last=True)\n",
    "else:\n",
    "    ner = nlp.get_pipe('ner')"
   ]
  },
  {
   "cell_type": "code",
   "execution_count": null,
   "id": "ec1b0ba1",
   "metadata": {
    "scrolled": false
   },
   "outputs": [
    {
     "name": "stderr",
     "output_type": "stream",
     "text": [
      "100%|██████████| 63/63 [00:02<00:00, 24.72it/s]\n"
     ]
    },
    {
     "name": "stdout",
     "output_type": "stream",
     "text": [
      "{'ner': 286.17116658094034}\n",
      "0\n"
     ]
    },
    {
     "name": "stderr",
     "output_type": "stream",
     "text": [
      "100%|██████████| 63/63 [00:02<00:00, 25.42it/s]\n"
     ]
    },
    {
     "name": "stdout",
     "output_type": "stream",
     "text": [
      "{'ner': 215.7369714266201}\n",
      "1\n"
     ]
    },
    {
     "name": "stderr",
     "output_type": "stream",
     "text": [
      "100%|██████████| 63/63 [00:02<00:00, 24.47it/s]\n"
     ]
    },
    {
     "name": "stdout",
     "output_type": "stream",
     "text": [
      "{'ner': 183.13562538126794}\n",
      "2\n"
     ]
    },
    {
     "name": "stderr",
     "output_type": "stream",
     "text": [
      "100%|██████████| 63/63 [00:02<00:00, 24.24it/s]\n"
     ]
    },
    {
     "name": "stdout",
     "output_type": "stream",
     "text": [
      "{'ner': 166.5615090430906}\n",
      "3\n"
     ]
    },
    {
     "name": "stderr",
     "output_type": "stream",
     "text": [
      "100%|██████████| 63/63 [00:02<00:00, 26.12it/s]\n"
     ]
    },
    {
     "name": "stdout",
     "output_type": "stream",
     "text": [
      "{'ner': 146.05824250051975}\n",
      "4\n"
     ]
    },
    {
     "name": "stderr",
     "output_type": "stream",
     "text": [
      "100%|██████████| 63/63 [00:02<00:00, 26.23it/s]\n"
     ]
    },
    {
     "name": "stdout",
     "output_type": "stream",
     "text": [
      "{'ner': 118.81773770048657}\n",
      "5\n"
     ]
    },
    {
     "name": "stderr",
     "output_type": "stream",
     "text": [
      "100%|██████████| 63/63 [00:02<00:00, 25.79it/s]\n"
     ]
    },
    {
     "name": "stdout",
     "output_type": "stream",
     "text": [
      "{'ner': 110.82079218054803}\n",
      "6\n"
     ]
    },
    {
     "name": "stderr",
     "output_type": "stream",
     "text": [
      "100%|██████████| 63/63 [00:02<00:00, 25.56it/s]\n"
     ]
    },
    {
     "name": "stdout",
     "output_type": "stream",
     "text": [
      "{'ner': 102.20958246458014}\n",
      "7\n"
     ]
    },
    {
     "name": "stderr",
     "output_type": "stream",
     "text": [
      "100%|██████████| 63/63 [00:02<00:00, 25.89it/s]\n"
     ]
    },
    {
     "name": "stdout",
     "output_type": "stream",
     "text": [
      "{'ner': 80.1931968590131}\n",
      "8\n"
     ]
    },
    {
     "name": "stderr",
     "output_type": "stream",
     "text": [
      "100%|██████████| 63/63 [00:02<00:00, 25.66it/s]\n"
     ]
    },
    {
     "name": "stdout",
     "output_type": "stream",
     "text": [
      "{'ner': 111.1571746919612}\n",
      "9\n"
     ]
    },
    {
     "name": "stderr",
     "output_type": "stream",
     "text": [
      "100%|██████████| 63/63 [00:02<00:00, 26.16it/s]\n"
     ]
    },
    {
     "name": "stdout",
     "output_type": "stream",
     "text": [
      "{'ner': 96.52829168188744}\n",
      "10\n"
     ]
    },
    {
     "name": "stderr",
     "output_type": "stream",
     "text": [
      "100%|██████████| 63/63 [00:02<00:00, 26.07it/s]\n"
     ]
    },
    {
     "name": "stdout",
     "output_type": "stream",
     "text": [
      "{'ner': 68.26656952087002}\n",
      "11\n"
     ]
    },
    {
     "name": "stderr",
     "output_type": "stream",
     "text": [
      "100%|██████████| 63/63 [00:02<00:00, 25.99it/s]\n"
     ]
    },
    {
     "name": "stdout",
     "output_type": "stream",
     "text": [
      "{'ner': 70.97232029202551}\n",
      "12\n"
     ]
    },
    {
     "name": "stderr",
     "output_type": "stream",
     "text": [
      "100%|██████████| 63/63 [00:02<00:00, 26.15it/s]\n"
     ]
    },
    {
     "name": "stdout",
     "output_type": "stream",
     "text": [
      "{'ner': 72.9355226017}\n",
      "13\n"
     ]
    },
    {
     "name": "stderr",
     "output_type": "stream",
     "text": [
      "100%|██████████| 63/63 [00:02<00:00, 25.53it/s]\n"
     ]
    },
    {
     "name": "stdout",
     "output_type": "stream",
     "text": [
      "{'ner': 62.81605038496979}\n",
      "14\n"
     ]
    },
    {
     "name": "stderr",
     "output_type": "stream",
     "text": [
      "100%|██████████| 63/63 [00:02<00:00, 25.62it/s]\n"
     ]
    },
    {
     "name": "stdout",
     "output_type": "stream",
     "text": [
      "{'ner': 93.44256113889314}\n",
      "15\n"
     ]
    },
    {
     "name": "stderr",
     "output_type": "stream",
     "text": [
      "100%|██████████| 63/63 [00:02<00:00, 26.05it/s]\n"
     ]
    },
    {
     "name": "stdout",
     "output_type": "stream",
     "text": [
      "{'ner': 60.42912729671086}\n",
      "16\n"
     ]
    },
    {
     "name": "stderr",
     "output_type": "stream",
     "text": [
      "100%|██████████| 63/63 [00:02<00:00, 25.68it/s]\n"
     ]
    },
    {
     "name": "stdout",
     "output_type": "stream",
     "text": [
      "{'ner': 41.73346115750797}\n",
      "17\n"
     ]
    },
    {
     "name": "stderr",
     "output_type": "stream",
     "text": [
      "100%|██████████| 63/63 [00:02<00:00, 26.04it/s]\n"
     ]
    },
    {
     "name": "stdout",
     "output_type": "stream",
     "text": [
      "{'ner': 51.40309882393916}\n",
      "18\n"
     ]
    },
    {
     "name": "stderr",
     "output_type": "stream",
     "text": [
      "100%|██████████| 63/63 [00:02<00:00, 25.97it/s]\n"
     ]
    },
    {
     "name": "stdout",
     "output_type": "stream",
     "text": [
      "{'ner': 77.2527070004227}\n",
      "19\n"
     ]
    },
    {
     "name": "stderr",
     "output_type": "stream",
     "text": [
      "100%|██████████| 63/63 [00:02<00:00, 25.61it/s]\n"
     ]
    },
    {
     "name": "stdout",
     "output_type": "stream",
     "text": [
      "{'ner': 35.197797047036644}\n",
      "20\n"
     ]
    },
    {
     "name": "stderr",
     "output_type": "stream",
     "text": [
      "100%|██████████| 63/63 [00:02<00:00, 25.63it/s]\n"
     ]
    },
    {
     "name": "stdout",
     "output_type": "stream",
     "text": [
      "{'ner': 41.24453338111324}\n",
      "21\n"
     ]
    },
    {
     "name": "stderr",
     "output_type": "stream",
     "text": [
      "100%|██████████| 63/63 [00:02<00:00, 25.23it/s]\n"
     ]
    },
    {
     "name": "stdout",
     "output_type": "stream",
     "text": [
      "{'ner': 43.45085903231511}\n",
      "22\n"
     ]
    },
    {
     "name": "stderr",
     "output_type": "stream",
     "text": [
      "100%|██████████| 63/63 [00:02<00:00, 25.90it/s]\n"
     ]
    },
    {
     "name": "stdout",
     "output_type": "stream",
     "text": [
      "{'ner': 27.82313522971978}\n",
      "23\n"
     ]
    },
    {
     "name": "stderr",
     "output_type": "stream",
     "text": [
      "100%|██████████| 63/63 [00:02<00:00, 25.81it/s]\n"
     ]
    },
    {
     "name": "stdout",
     "output_type": "stream",
     "text": [
      "{'ner': 42.53519830270287}\n",
      "24\n"
     ]
    },
    {
     "name": "stderr",
     "output_type": "stream",
     "text": [
      "100%|██████████| 63/63 [00:02<00:00, 26.06it/s]\n"
     ]
    },
    {
     "name": "stdout",
     "output_type": "stream",
     "text": [
      "{'ner': 40.68057781028477}\n",
      "25\n"
     ]
    },
    {
     "name": "stderr",
     "output_type": "stream",
     "text": [
      "100%|██████████| 63/63 [00:02<00:00, 25.81it/s]\n"
     ]
    },
    {
     "name": "stdout",
     "output_type": "stream",
     "text": [
      "{'ner': 36.946014436142434}\n",
      "26\n"
     ]
    },
    {
     "name": "stderr",
     "output_type": "stream",
     "text": [
      "100%|██████████| 63/63 [00:02<00:00, 25.59it/s]\n"
     ]
    },
    {
     "name": "stdout",
     "output_type": "stream",
     "text": [
      "{'ner': 26.81326243154371}\n",
      "27\n"
     ]
    },
    {
     "name": "stderr",
     "output_type": "stream",
     "text": [
      "100%|██████████| 63/63 [00:02<00:00, 25.63it/s]\n"
     ]
    },
    {
     "name": "stdout",
     "output_type": "stream",
     "text": [
      "{'ner': 27.910817272268527}\n",
      "28\n"
     ]
    },
    {
     "name": "stderr",
     "output_type": "stream",
     "text": [
      "100%|██████████| 63/63 [00:02<00:00, 25.81it/s]\n"
     ]
    },
    {
     "name": "stdout",
     "output_type": "stream",
     "text": [
      "{'ner': 26.304514239051667}\n",
      "29\n"
     ]
    },
    {
     "name": "stderr",
     "output_type": "stream",
     "text": [
      "100%|██████████| 63/63 [00:02<00:00, 25.88it/s]\n"
     ]
    },
    {
     "name": "stdout",
     "output_type": "stream",
     "text": [
      "{'ner': 16.392857724669287}\n",
      "30\n"
     ]
    },
    {
     "name": "stderr",
     "output_type": "stream",
     "text": [
      "100%|██████████| 63/63 [00:02<00:00, 25.96it/s]\n"
     ]
    },
    {
     "name": "stdout",
     "output_type": "stream",
     "text": [
      "{'ner': 19.151762983096795}\n",
      "31\n"
     ]
    },
    {
     "name": "stderr",
     "output_type": "stream",
     "text": [
      "100%|██████████| 63/63 [00:02<00:00, 25.96it/s]\n"
     ]
    },
    {
     "name": "stdout",
     "output_type": "stream",
     "text": [
      "{'ner': 39.25941776689839}\n",
      "32\n"
     ]
    },
    {
     "name": "stderr",
     "output_type": "stream",
     "text": [
      "100%|██████████| 63/63 [00:02<00:00, 25.68it/s]\n"
     ]
    },
    {
     "name": "stdout",
     "output_type": "stream",
     "text": [
      "{'ner': 27.371861377180657}\n",
      "33\n"
     ]
    },
    {
     "name": "stderr",
     "output_type": "stream",
     "text": [
      "100%|██████████| 63/63 [00:02<00:00, 25.42it/s]\n"
     ]
    },
    {
     "name": "stdout",
     "output_type": "stream",
     "text": [
      "{'ner': 17.948642890566155}\n",
      "34\n"
     ]
    },
    {
     "name": "stderr",
     "output_type": "stream",
     "text": [
      "100%|██████████| 63/63 [00:02<00:00, 25.72it/s]\n"
     ]
    },
    {
     "name": "stdout",
     "output_type": "stream",
     "text": [
      "{'ner': 24.330447364455804}\n",
      "35\n"
     ]
    },
    {
     "name": "stderr",
     "output_type": "stream",
     "text": [
      "100%|██████████| 63/63 [00:02<00:00, 26.04it/s]\n"
     ]
    },
    {
     "name": "stdout",
     "output_type": "stream",
     "text": [
      "{'ner': 27.312618474726804}\n",
      "36\n"
     ]
    },
    {
     "name": "stderr",
     "output_type": "stream",
     "text": [
      "100%|██████████| 63/63 [00:02<00:00, 26.21it/s]\n"
     ]
    },
    {
     "name": "stdout",
     "output_type": "stream",
     "text": [
      "{'ner': 27.807974794919478}\n",
      "37\n"
     ]
    },
    {
     "name": "stderr",
     "output_type": "stream",
     "text": [
      "100%|██████████| 63/63 [00:02<00:00, 26.07it/s]\n"
     ]
    },
    {
     "name": "stdout",
     "output_type": "stream",
     "text": [
      "{'ner': 11.421399777926796}\n",
      "38\n"
     ]
    },
    {
     "name": "stderr",
     "output_type": "stream",
     "text": [
      "100%|██████████| 63/63 [00:02<00:00, 25.98it/s]\n"
     ]
    },
    {
     "name": "stdout",
     "output_type": "stream",
     "text": [
      "{'ner': 32.49062369790816}\n",
      "39\n"
     ]
    },
    {
     "name": "stderr",
     "output_type": "stream",
     "text": [
      "100%|██████████| 63/63 [00:02<00:00, 25.41it/s]\n"
     ]
    },
    {
     "name": "stdout",
     "output_type": "stream",
     "text": [
      "{'ner': 18.396110029556333}\n",
      "40\n"
     ]
    },
    {
     "name": "stderr",
     "output_type": "stream",
     "text": [
      "100%|██████████| 63/63 [00:02<00:00, 25.57it/s]\n"
     ]
    },
    {
     "name": "stdout",
     "output_type": "stream",
     "text": [
      "{'ner': 18.429372310530194}\n",
      "41\n"
     ]
    },
    {
     "name": "stderr",
     "output_type": "stream",
     "text": [
      "100%|██████████| 63/63 [00:02<00:00, 25.98it/s]\n"
     ]
    },
    {
     "name": "stdout",
     "output_type": "stream",
     "text": [
      "{'ner': 24.877262571406035}\n",
      "42\n"
     ]
    },
    {
     "name": "stderr",
     "output_type": "stream",
     "text": [
      "100%|██████████| 63/63 [00:02<00:00, 25.88it/s]\n"
     ]
    },
    {
     "name": "stdout",
     "output_type": "stream",
     "text": [
      "{'ner': 17.908405219724106}\n",
      "43\n"
     ]
    },
    {
     "name": "stderr",
     "output_type": "stream",
     "text": [
      "100%|██████████| 63/63 [00:02<00:00, 26.12it/s]\n"
     ]
    },
    {
     "name": "stdout",
     "output_type": "stream",
     "text": [
      "{'ner': 22.215523564649146}\n",
      "44\n"
     ]
    },
    {
     "name": "stderr",
     "output_type": "stream",
     "text": [
      "100%|██████████| 63/63 [00:02<00:00, 26.04it/s]\n"
     ]
    },
    {
     "name": "stdout",
     "output_type": "stream",
     "text": [
      "{'ner': 15.467452201492433}\n",
      "45\n"
     ]
    },
    {
     "name": "stderr",
     "output_type": "stream",
     "text": [
      "100%|██████████| 63/63 [00:02<00:00, 26.03it/s]\n"
     ]
    },
    {
     "name": "stdout",
     "output_type": "stream",
     "text": [
      "{'ner': 23.206903402964972}\n",
      "46\n"
     ]
    },
    {
     "name": "stderr",
     "output_type": "stream",
     "text": [
      "100%|██████████| 63/63 [00:02<00:00, 25.55it/s]\n"
     ]
    },
    {
     "name": "stdout",
     "output_type": "stream",
     "text": [
      "{'ner': 19.275693447308033}\n",
      "47\n"
     ]
    },
    {
     "name": "stderr",
     "output_type": "stream",
     "text": [
      "100%|██████████| 63/63 [00:02<00:00, 25.68it/s]\n"
     ]
    },
    {
     "name": "stdout",
     "output_type": "stream",
     "text": [
      "{'ner': 15.634899142589434}\n",
      "48\n"
     ]
    },
    {
     "name": "stderr",
     "output_type": "stream",
     "text": [
      "100%|██████████| 63/63 [00:02<00:00, 25.85it/s]\n"
     ]
    },
    {
     "name": "stdout",
     "output_type": "stream",
     "text": [
      "{'ner': 20.533783324267898}\n",
      "49\n"
     ]
    },
    {
     "name": "stderr",
     "output_type": "stream",
     "text": [
      "100%|██████████| 63/63 [00:02<00:00, 25.87it/s]\n"
     ]
    },
    {
     "name": "stdout",
     "output_type": "stream",
     "text": [
      "{'ner': 16.852387939276966}\n",
      "50\n"
     ]
    },
    {
     "name": "stderr",
     "output_type": "stream",
     "text": [
      "100%|██████████| 63/63 [00:02<00:00, 25.89it/s]\n"
     ]
    },
    {
     "name": "stdout",
     "output_type": "stream",
     "text": [
      "{'ner': 17.208779703959824}\n",
      "51\n"
     ]
    },
    {
     "name": "stderr",
     "output_type": "stream",
     "text": [
      "100%|██████████| 63/63 [00:02<00:00, 25.66it/s]\n"
     ]
    },
    {
     "name": "stdout",
     "output_type": "stream",
     "text": [
      "{'ner': 19.370590551202824}\n",
      "52\n"
     ]
    },
    {
     "name": "stderr",
     "output_type": "stream",
     "text": [
      "100%|██████████| 63/63 [00:02<00:00, 25.66it/s]\n"
     ]
    },
    {
     "name": "stdout",
     "output_type": "stream",
     "text": [
      "{'ner': 10.513728835957902}\n",
      "53\n"
     ]
    },
    {
     "name": "stderr",
     "output_type": "stream",
     "text": [
      "100%|██████████| 63/63 [00:02<00:00, 25.69it/s]\n"
     ]
    },
    {
     "name": "stdout",
     "output_type": "stream",
     "text": [
      "{'ner': 20.71030079824373}\n",
      "54\n"
     ]
    },
    {
     "name": "stderr",
     "output_type": "stream",
     "text": [
      "100%|██████████| 63/63 [00:02<00:00, 25.58it/s]\n"
     ]
    },
    {
     "name": "stdout",
     "output_type": "stream",
     "text": [
      "{'ner': 12.479162611946425}\n",
      "55\n"
     ]
    },
    {
     "name": "stderr",
     "output_type": "stream",
     "text": [
      "100%|██████████| 63/63 [00:02<00:00, 25.66it/s]\n"
     ]
    },
    {
     "name": "stdout",
     "output_type": "stream",
     "text": [
      "{'ner': 10.888181128619673}\n",
      "56\n"
     ]
    },
    {
     "name": "stderr",
     "output_type": "stream",
     "text": [
      "100%|██████████| 63/63 [00:02<00:00, 25.76it/s]\n"
     ]
    },
    {
     "name": "stdout",
     "output_type": "stream",
     "text": [
      "{'ner': 27.837288291696662}\n",
      "57\n"
     ]
    },
    {
     "name": "stderr",
     "output_type": "stream",
     "text": [
      "100%|██████████| 63/63 [00:02<00:00, 25.87it/s]\n"
     ]
    },
    {
     "name": "stdout",
     "output_type": "stream",
     "text": [
      "{'ner': 18.78768055291965}\n",
      "58\n"
     ]
    },
    {
     "name": "stderr",
     "output_type": "stream",
     "text": [
      "100%|██████████| 63/63 [00:02<00:00, 25.97it/s]\n"
     ]
    },
    {
     "name": "stdout",
     "output_type": "stream",
     "text": [
      "{'ner': 12.430595226055935}\n",
      "59\n"
     ]
    },
    {
     "name": "stderr",
     "output_type": "stream",
     "text": [
      "100%|██████████| 63/63 [00:02<00:00, 25.40it/s]\n"
     ]
    },
    {
     "name": "stdout",
     "output_type": "stream",
     "text": [
      "{'ner': 19.911258435417054}\n",
      "60\n"
     ]
    },
    {
     "name": "stderr",
     "output_type": "stream",
     "text": [
      "100%|██████████| 63/63 [00:02<00:00, 25.55it/s]\n"
     ]
    },
    {
     "name": "stdout",
     "output_type": "stream",
     "text": [
      "{'ner': 27.471125188584978}\n",
      "61\n"
     ]
    },
    {
     "name": "stderr",
     "output_type": "stream",
     "text": [
      "100%|██████████| 63/63 [00:02<00:00, 25.79it/s]\n"
     ]
    },
    {
     "name": "stdout",
     "output_type": "stream",
     "text": [
      "{'ner': 14.37673757871221}\n",
      "62\n"
     ]
    },
    {
     "name": "stderr",
     "output_type": "stream",
     "text": [
      "100%|██████████| 63/63 [00:02<00:00, 25.88it/s]\n"
     ]
    },
    {
     "name": "stdout",
     "output_type": "stream",
     "text": [
      "{'ner': 27.287120551991645}\n",
      "63\n"
     ]
    },
    {
     "name": "stderr",
     "output_type": "stream",
     "text": [
      "100%|██████████| 63/63 [00:02<00:00, 25.86it/s]\n"
     ]
    },
    {
     "name": "stdout",
     "output_type": "stream",
     "text": [
      "{'ner': 14.70824239859318}\n",
      "64\n"
     ]
    },
    {
     "name": "stderr",
     "output_type": "stream",
     "text": [
      "100%|██████████| 63/63 [00:02<00:00, 25.81it/s]\n"
     ]
    },
    {
     "name": "stdout",
     "output_type": "stream",
     "text": [
      "{'ner': 14.643703245948224}\n",
      "65\n"
     ]
    },
    {
     "name": "stderr",
     "output_type": "stream",
     "text": [
      "100%|██████████| 63/63 [00:02<00:00, 25.29it/s]\n"
     ]
    },
    {
     "name": "stdout",
     "output_type": "stream",
     "text": [
      "{'ner': 15.870313487608339}\n",
      "66\n"
     ]
    },
    {
     "name": "stderr",
     "output_type": "stream",
     "text": [
      "100%|██████████| 63/63 [00:02<00:00, 25.48it/s]\n"
     ]
    },
    {
     "name": "stdout",
     "output_type": "stream",
     "text": [
      "{'ner': 16.142206332663434}\n",
      "67\n"
     ]
    },
    {
     "name": "stderr",
     "output_type": "stream",
     "text": [
      "100%|██████████| 63/63 [00:02<00:00, 25.76it/s]\n"
     ]
    },
    {
     "name": "stdout",
     "output_type": "stream",
     "text": [
      "{'ner': 20.81677819802027}\n",
      "68\n"
     ]
    },
    {
     "name": "stderr",
     "output_type": "stream",
     "text": [
      "100%|██████████| 63/63 [00:02<00:00, 25.69it/s]\n"
     ]
    },
    {
     "name": "stdout",
     "output_type": "stream",
     "text": [
      "{'ner': 9.765687276040838}\n",
      "69\n"
     ]
    },
    {
     "name": "stderr",
     "output_type": "stream",
     "text": [
      "100%|██████████| 63/63 [00:02<00:00, 25.61it/s]\n"
     ]
    },
    {
     "name": "stdout",
     "output_type": "stream",
     "text": [
      "{'ner': 14.479710025548881}\n",
      "70\n"
     ]
    },
    {
     "name": "stderr",
     "output_type": "stream",
     "text": [
      " 10%|▉         | 6/63 [00:00<00:02, 25.47it/s]"
     ]
    }
   ],
   "source": [
    "from spacy.training.example import Example\n",
    "\n",
    "for _, annotations in TRAIN_DATA:\n",
    "    for ent in annotations.get('entities'):\n",
    "        ner.add_label(ent[2])\n",
    "\n",
    "other_pipes = [pipe for pipe in nlp.pipe_names if pipe != 'ner']\n",
    "with nlp.disable_pipes(*other_pipes):  # only train NER\n",
    "    optimizer = nlp.create_optimizer()\n",
    "    for itn in range(n_iter):\n",
    "        random.shuffle(TRAIN_DATA)\n",
    "        losses = {}\n",
    "        for text, annotations in tqdm(TRAIN_DATA):\n",
    "            example = Example.from_dict(nlp.make_doc(text), annotations)\n",
    "            nlp.update(\n",
    "                [example],  \n",
    "                drop=0.5,  \n",
    "                sgd=optimizer,\n",
    "                losses=losses)\n",
    "        print(losses)\n",
    "        print(itn)"
   ]
  },
  {
   "cell_type": "code",
   "execution_count": null,
   "id": "2e02421e",
   "metadata": {},
   "outputs": [],
   "source": [
    "output_dir = Path('C:\\\\Users\\\\ashwa\\custom_ner_model2')\n",
    "nlp.to_disk(output_dir)\n",
    "print(\"Saved model to\", output_dir)\n",
    "nlp.to_disk('custom_ner_model2')\n"
   ]
  }
 ],
 "metadata": {
  "kernelspec": {
   "display_name": "Python 3 (ipykernel)",
   "language": "python",
   "name": "python3"
  },
  "language_info": {
   "codemirror_mode": {
    "name": "ipython",
    "version": 3
   },
   "file_extension": ".py",
   "mimetype": "text/x-python",
   "name": "python",
   "nbconvert_exporter": "python",
   "pygments_lexer": "ipython3",
   "version": "3.8.8"
  }
 },
 "nbformat": 4,
 "nbformat_minor": 5
}
